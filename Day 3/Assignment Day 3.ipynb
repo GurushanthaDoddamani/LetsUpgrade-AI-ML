{
 "cells": [
  {
   "cell_type": "markdown",
   "metadata": {},
   "source": [
    "Question 1 :\n",
    "Write a program to subtract two complex numbers in Python."
   ]
  },
  {
   "cell_type": "code",
   "execution_count": 3,
   "metadata": {},
   "outputs": [
    {
     "name": "stdout",
     "output_type": "stream",
     "text": [
      "Subtraction of complex number: (1+5j)\n"
     ]
    }
   ],
   "source": [
    "a = 2 + 3j\n",
    "b = 1 - 2j\n",
    "\n",
    "c = a - b\n",
    "print(\"Subtraction of complex number:\",c)"
   ]
  },
  {
   "cell_type": "markdown",
   "metadata": {},
   "source": [
    "Question 2 :\n",
    "Write a program to find the fourth root of a number."
   ]
  },
  {
   "cell_type": "code",
   "execution_count": 14,
   "metadata": {},
   "outputs": [
    {
     "name": "stdout",
     "output_type": "stream",
     "text": [
      "Fourth root of: 2 is: 16\n"
     ]
    }
   ],
   "source": [
    "a = 2\n",
    "\n",
    "b = a**2\n",
    "\n",
    "c = b**2\n",
    "\n",
    "print(\"Fourth root of:\",a,\"is:\",c)"
   ]
  },
  {
   "cell_type": "markdown",
   "metadata": {},
   "source": [
    "Question 3:\n",
    "Write a program to swap two numbers in Python with the help of a temporary variable.\n"
   ]
  },
  {
   "cell_type": "code",
   "execution_count": 28,
   "metadata": {},
   "outputs": [
    {
     "name": "stdout",
     "output_type": "stream",
     "text": [
      "Before swapping:a is 2\n",
      "Before swapping:b is 3\n",
      "After swapping:a is 3\n",
      "After swapping:b is 2\n"
     ]
    }
   ],
   "source": [
    "a = 2\n",
    "b = 3\n",
    "print(\"Before swapping:a is\",a)\n",
    "print(\"Before swapping:b is\",b)\n",
    "#using temp variable\n",
    "temp = b\n",
    "b = a\n",
    "a = temp\n",
    "print(\"After swapping:a is\",a)\n",
    "print(\"After swapping:b is\",b)"
   ]
  },
  {
   "cell_type": "markdown",
   "metadata": {},
   "source": [
    "Question 4:\n",
    "Write a program to swap two numbers in Python without using a temporary variable."
   ]
  },
  {
   "cell_type": "code",
   "execution_count": 32,
   "metadata": {},
   "outputs": [
    {
     "name": "stdout",
     "output_type": "stream",
     "text": [
      "Before swapping:a is 2\n",
      "Before swapping:b is 3\n",
      "After swapping:a is 3\n",
      "After swapping:b is 2\n"
     ]
    }
   ],
   "source": [
    "a = 2\n",
    "b = 3\n",
    "print(\"Before swapping:a is\",a)\n",
    "print(\"Before swapping:b is\",b)\n",
    "#using without temp variable\n",
    "a = a + b\n",
    "b = a - b\n",
    "a = a - b\n",
    "print(\"After swapping:a is\",a)\n",
    "print(\"After swapping:b is\",b)"
   ]
  },
  {
   "cell_type": "markdown",
   "metadata": {},
   "source": [
    "Question 5:\n",
    "Write a program to convert fahrenheit to kelvin and celsius both."
   ]
  },
  {
   "cell_type": "code",
   "execution_count": 52,
   "metadata": {},
   "outputs": [
    {
     "name": "stdout",
     "output_type": "stream",
     "text": [
      "The Fahrenheit is: 33.8\n",
      "The given Farenheit is: 33.8 Converted in deg is: 0.9999999999999984 Celcius\n",
      "The given Farenheit is: 33.8 Converted in Kelvin is: 274.15 K\n"
     ]
    }
   ],
   "source": [
    "#Fahrenheit\n",
    "Fahrenheit = 33.8\n",
    "print(\"The Fahrenheit is:\",Fahrenheit)\n",
    "\n",
    "#Fahrenheit to Degree\n",
    "deg = (Fahrenheit-32)/1.8\n",
    "print(\"The given Farenheit is:\",Fahrenheit,\"Converted in deg is:\",deg,\"Celcius\")\n",
    "\n",
    "#Fahrenheit to Kelvin\n",
    "kelvin = (Fahrenheit-32)*(5/9) + 273.15\n",
    "print(\"The given Farenheit is:\",Fahrenheit,\"Converted in Kelvin is:\",kelvin,\"K\")\n"
   ]
  },
  {
   "cell_type": "markdown",
   "metadata": {},
   "source": [
    "Question 6:\n",
    "Write a program to demonstrate all the available data types in Python. Hint: Use type() function."
   ]
  },
  {
   "cell_type": "code",
   "execution_count": 54,
   "metadata": {},
   "outputs": [
    {
     "name": "stdout",
     "output_type": "stream",
     "text": [
      "a is: 10 of type: <class 'int'>\n",
      "b is: 20.5 of type: <class 'float'>\n",
      "c is: (2+3j) of type: <class 'complex'>\n",
      "d is: Hello World of type: <class 'str'>\n",
      "e is: (1, 0, 0) of type: <class 'tuple'>\n"
     ]
    }
   ],
   "source": [
    "a = 10\n",
    "b = 20.5\n",
    "c = 2 + 3j\n",
    "d = \"Hello World\"\n",
    "e = 1,00,000\n",
    "\n",
    "print(\"a is:\",a,\"of type:\",type(a))\n",
    "print(\"b is:\",b,\"of type:\",type(b))\n",
    "print(\"c is:\",c,\"of type:\",type(c))\n",
    "print(\"d is:\",d,\"of type:\",type(d))\n",
    "print(\"e is:\",e,\"of type:\",type(e))"
   ]
  },
  {
   "cell_type": "markdown",
   "metadata": {},
   "source": [
    "Question 7:\n",
    "Create a Markdown cell in jupyter and list the steps discussed in the session by Dr. Darshan\n",
    "Ingle sir to create Github profile and upload Githubs Assignment link."
   ]
  },
  {
   "cell_type": "markdown",
   "metadata": {},
   "source": [
    "1. Login to the Github.\n",
    "2. Crate a repository \"LetsUpgrade-AI-ML\" as public.\n",
    "3. Upload the .ipynb file or the folder to the repository and commit.\n",
    "4. Copy the URL of Github repository link and submit to the Lets Upgrade assignment submission form.\n",
    "5. Use the registered email ID for the assignment submission."
   ]
  },
  {
   "cell_type": "code",
   "execution_count": null,
   "metadata": {},
   "outputs": [],
   "source": []
  }
 ],
 "metadata": {
  "kernelspec": {
   "display_name": "Python 3",
   "language": "python",
   "name": "python3"
  },
  "language_info": {
   "codemirror_mode": {
    "name": "ipython",
    "version": 3
   },
   "file_extension": ".py",
   "mimetype": "text/x-python",
   "name": "python",
   "nbconvert_exporter": "python",
   "pygments_lexer": "ipython3",
   "version": "3.7.4"
  }
 },
 "nbformat": 4,
 "nbformat_minor": 2
}
